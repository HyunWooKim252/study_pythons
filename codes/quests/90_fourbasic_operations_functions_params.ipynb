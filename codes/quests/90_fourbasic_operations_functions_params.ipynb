{
  "nbformat": 4,
  "nbformat_minor": 0,
  "metadata": {
    "colab": {
      "provenance": [],
      "authorship_tag": "ABX9TyNdUI8u/rIQhHyFoGJUQ6dN",
      "include_colab_link": true
    },
    "kernelspec": {
      "name": "python3",
      "display_name": "Python 3"
    },
    "language_info": {
      "name": "python"
    }
  },
  "cells": [
    {
      "cell_type": "markdown",
      "metadata": {
        "id": "view-in-github",
        "colab_type": "text"
      },
      "source": [
        "<a href=\"https://colab.research.google.com/github/HyunWooKim252/study_pythons/blob/main/codes/quests/90_fourbasic_operations_functions_params.ipynb\" target=\"_parent\"><img src=\"https://colab.research.google.com/assets/colab-badge.svg\" alt=\"Open In Colab\"/></a>"
      ]
    },
    {
      "cell_type": "code",
      "execution_count": 22,
      "metadata": {
        "id": "HR0uZBcl8CEb"
      },
      "outputs": [],
      "source": []
    },
    {
      "cell_type": "markdown",
      "source": [
        "##add() 함수"
      ],
      "metadata": {
        "id": "yqO7_d5c8XDZ"
      }
    },
    {
      "cell_type": "code",
      "source": [],
      "metadata": {
        "id": "8IMdDVo8tqDd"
      },
      "execution_count": null,
      "outputs": []
    },
    {
      "cell_type": "code",
      "source": [
        "def add(first,second):\n",
        "\n",
        "  result = first + second\n",
        "  print(f'{first} + {second} = {result}')"
      ],
      "metadata": {
        "id": "J0jv-aqs8WUI"
      },
      "execution_count": 58,
      "outputs": []
    },
    {
      "cell_type": "code",
      "source": [
        "def minus(first,second):\n",
        "  result = first - second\n",
        "  print(f'{first} - {second} = {result}')"
      ],
      "metadata": {
        "id": "HzDbSSyT9F_G"
      },
      "execution_count": 59,
      "outputs": []
    },
    {
      "cell_type": "code",
      "source": [
        "def multiply(first,second):\n",
        "  result = first * second\n",
        "  print(f'{first} * {second} = {result}')"
      ],
      "metadata": {
        "id": "ltI4NYQU9xOH"
      },
      "execution_count": 60,
      "outputs": []
    },
    {
      "cell_type": "code",
      "source": [
        "def division(first,second):\n",
        "  result = first / second\n",
        "  print(f'{first} / {second} = {result}')"
      ],
      "metadata": {
        "id": "KzddAoXV-VNH"
      },
      "execution_count": 61,
      "outputs": []
    },
    {
      "cell_type": "code",
      "source": [
        "param_first=4\n",
        "param_second=5\n",
        "\n",
        "add(param_first, param_second)\n",
        "minus(param_first, param_second)\n",
        "multiply(param_first, param_second)\n",
        "division(param_first, param_second)"
      ],
      "metadata": {
        "colab": {
          "base_uri": "https://localhost:8080/"
        },
        "id": "YUiewaca9lmM",
        "outputId": "7560a1cb-5f27-42af-f643-5838eb635d9c"
      },
      "execution_count": 62,
      "outputs": [
        {
          "output_type": "stream",
          "name": "stdout",
          "text": [
            "4 + 5 = 9\n",
            "4 - 5 = -1\n",
            "4 * 5 = 20\n",
            "4 / 5 = 0.8\n"
          ]
        }
      ]
    }
  ]
}