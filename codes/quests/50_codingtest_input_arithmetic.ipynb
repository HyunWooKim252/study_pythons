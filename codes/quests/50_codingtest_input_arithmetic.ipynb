{
  "nbformat": 4,
  "nbformat_minor": 0,
  "metadata": {
    "colab": {
      "provenance": [],
      "authorship_tag": "ABX9TyOUu9E1x6lD0IuSPFDqZxiU",
      "include_colab_link": true
    },
    "kernelspec": {
      "name": "python3",
      "display_name": "Python 3"
    },
    "language_info": {
      "name": "python"
    }
  },
  "cells": [
    {
      "cell_type": "markdown",
      "metadata": {
        "id": "view-in-github",
        "colab_type": "text"
      },
      "source": [
        "<a href=\"https://colab.research.google.com/github/HyunWooKim252/study_pythons/blob/main/codes/quests/50_codingtest_input_arithmetic.ipynb\" target=\"_parent\"><img src=\"https://colab.research.google.com/assets/colab-badge.svg\" alt=\"Open In Colab\"/></a>"
      ]
    },
    {
      "cell_type": "code",
      "execution_count": 4,
      "metadata": {
        "colab": {
          "base_uri": "https://localhost:8080/"
        },
        "id": "bpxr-fMD5Olf",
        "outputId": "396193f9-82bc-411f-e134-88e8a745dff0"
      },
      "outputs": [
        {
          "output_type": "stream",
          "name": "stdout",
          "text": [
            "불기년도 : 2541\n",
            "1998\n"
          ]
        }
      ],
      "source": [
        "##불기년도와 서기년도의 차이 543\n",
        "first_input = input(\"불기년도 : \")\n",
        "result = int(first_input)\n",
        "print(f'{result-543}')\n"
      ]
    }
  ]
}