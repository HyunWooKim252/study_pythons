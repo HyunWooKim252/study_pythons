{
  "nbformat": 4,
  "nbformat_minor": 0,
  "metadata": {
    "colab": {
      "provenance": [],
      "authorship_tag": "ABX9TyMfPb2RFaB0qhoGHTigZwy6",
      "include_colab_link": true
    },
    "kernelspec": {
      "name": "python3",
      "display_name": "Python 3"
    },
    "language_info": {
      "name": "python"
    }
  },
  "cells": [
    {
      "cell_type": "markdown",
      "metadata": {
        "id": "view-in-github",
        "colab_type": "text"
      },
      "source": [
        "<a href=\"https://colab.research.google.com/github/HyunWooKim252/study_pythons/blob/main/codes/quests/60_multiplication_table.ipynb\" target=\"_parent\"><img src=\"https://colab.research.google.com/assets/colab-badge.svg\" alt=\"Open In Colab\"/></a>"
      ]
    },
    {
      "cell_type": "code",
      "execution_count": 10,
      "metadata": {
        "colab": {
          "base_uri": "https://localhost:8080/"
        },
        "collapsed": true,
        "id": "GwM090yLc6Ju",
        "outputId": "bbf6ae16-b92e-4161-90dc-ae63213b4245"
      },
      "outputs": [
        {
          "output_type": "stream",
          "name": "stdout",
          "text": [
            "구구단 : 6\n",
            "6 * 1 = 6\n",
            "6 * 2 = 12\n",
            "6 * 3 = 18\n",
            "6 * 4 = 24\n",
            "6 * 5 = 30\n",
            "6 * 6 = 36\n",
            "6 * 7 = 42\n",
            "6 * 8 = 48\n",
            "6 * 9 = 54\n"
          ]
        }
      ],
      "source": [
        "number=input('구구단 : ')\n",
        "int_number=int(number)\n",
        "integer = 1\n",
        "while integer < 10 :\n",
        "  print(f'{int_number} * {integer} = {int_number * integer}')\n",
        "  integer = integer + 1"
      ]
    },
    {
      "cell_type": "code",
      "source": [
        "\n"
      ],
      "metadata": {
        "id": "tY0bXGK6d-UB"
      },
      "execution_count": null,
      "outputs": []
    }
  ]
}