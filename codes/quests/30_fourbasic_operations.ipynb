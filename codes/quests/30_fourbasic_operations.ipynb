{
  "nbformat": 4,
  "nbformat_minor": 0,
  "metadata": {
    "colab": {
      "provenance": [],
      "authorship_tag": "ABX9TyPQzgUn0XVvZznaJezBpxM2",
      "include_colab_link": true
    },
    "kernelspec": {
      "name": "python3",
      "display_name": "Python 3"
    },
    "language_info": {
      "name": "python"
    }
  },
  "cells": [
    {
      "cell_type": "markdown",
      "metadata": {
        "id": "view-in-github",
        "colab_type": "text"
      },
      "source": [
        "<a href=\"https://colab.research.google.com/github/HyunWooKim252/study_pythons/blob/main/codes/quests/30_fourbasic_operations.ipynb\" target=\"_parent\"><img src=\"https://colab.research.google.com/assets/colab-badge.svg\" alt=\"Open In Colab\"/></a>"
      ]
    },
    {
      "cell_type": "code",
      "execution_count": null,
      "metadata": {
        "id": "HR0uZBcl8CEb"
      },
      "outputs": [],
      "source": [
        "first = 4\n",
        "second = 5"
      ]
    },
    {
      "cell_type": "markdown",
      "source": [
        "##add() 함수"
      ],
      "metadata": {
        "id": "yqO7_d5c8XDZ"
      }
    },
    {
      "cell_type": "code",
      "source": [
        "def add():\n",
        "  first = 4\n",
        "  second = 5\n",
        "  result = first + second\n",
        "  print(f'{first} + {second} = {result}')"
      ],
      "metadata": {
        "id": "J0jv-aqs8WUI"
      },
      "execution_count": 5,
      "outputs": []
    },
    {
      "cell_type": "code",
      "source": [
        "def minus():\n",
        "  first = 4\n",
        "  second = 5\n",
        "  result = first - second\n",
        "  print(f'{first} - {second} = {result}')"
      ],
      "metadata": {
        "id": "HzDbSSyT9F_G"
      },
      "execution_count": 8,
      "outputs": []
    },
    {
      "cell_type": "code",
      "source": [
        "def multiply():\n",
        "  first = 4\n",
        "  second = 5\n",
        "  result = first * second\n",
        "  print(f'{first} * {second} = {result}')"
      ],
      "metadata": {
        "id": "ltI4NYQU9xOH"
      },
      "execution_count": 12,
      "outputs": []
    },
    {
      "cell_type": "code",
      "source": [
        "def division():\n",
        "  first = 4\n",
        "  second = 5\n",
        "  result = first / second\n",
        "  print(f'{first} / {second} = {result}')"
      ],
      "metadata": {
        "id": "KzddAoXV-VNH"
      },
      "execution_count": 14,
      "outputs": []
    },
    {
      "cell_type": "code",
      "source": [
        "add()\n",
        "minus()\n",
        "multiply()\n",
        "division()"
      ],
      "metadata": {
        "colab": {
          "base_uri": "https://localhost:8080/"
        },
        "id": "YUiewaca9lmM",
        "outputId": "e1e508e7-2b64-4ac1-f601-0b8d7cd66fbf"
      },
      "execution_count": 15,
      "outputs": [
        {
          "output_type": "stream",
          "name": "stdout",
          "text": [
            "4 + 5 = 9\n",
            "4 - 5 = -1\n",
            "4 * 5 = 20\n",
            "4 / 5 = 0.8\n"
          ]
        }
      ]
    }
  ]
}