{
  "nbformat": 4,
  "nbformat_minor": 0,
  "metadata": {
    "colab": {
      "provenance": [],
      "authorship_tag": "ABX9TyOMKDiQY9k2qQ2UTOOkxH1K",
      "include_colab_link": true
    },
    "kernelspec": {
      "name": "python3",
      "display_name": "Python 3"
    },
    "language_info": {
      "name": "python"
    }
  },
  "cells": [
    {
      "cell_type": "markdown",
      "metadata": {
        "id": "view-in-github",
        "colab_type": "text"
      },
      "source": [
        "<a href=\"https://colab.research.google.com/github/HyunWooKim252/study_pythons/blob/main/codes/quests/30_fourbasic_operations.ipynb\" target=\"_parent\"><img src=\"https://colab.research.google.com/assets/colab-badge.svg\" alt=\"Open In Colab\"/></a>"
      ]
    },
    {
      "cell_type": "code",
      "execution_count": 1,
      "metadata": {
        "colab": {
          "base_uri": "https://localhost:8080/"
        },
        "id": "MN47aJfed0XM",
        "outputId": "b40d0291-baf8-43e8-d8bb-fb2ec8b8967c"
      },
      "outputs": [
        {
          "output_type": "stream",
          "name": "stdout",
          "text": [
            "input first : 7\n",
            "input second : 3\n",
            "10  / <class 'int'>\n",
            "4  / <class 'int'>\n",
            "21  / <class 'int'>\n",
            "2.3333333333333335  / <class 'float'>\n",
            "1  / <class 'int'>\n"
          ]
        }
      ],
      "source": [
        "input_first = input('input first : ')\n",
        "input_second = input('input second : ')\n",
        "\n",
        "input_first_value = int(input_first)\n",
        "input_second_value = int(input_second)\n",
        "\n",
        "print(input_first_value + input_second_value, f' / {type(input_first_value + input_second_value)}')\n",
        "print(input_first_value - input_second_value, f' / {type(input_first_value - input_second_value)}')\n",
        "print(input_first_value * input_second_value, f' / {type(input_first_value * input_second_value)}')\n",
        "print(input_first_value / input_second_value, f' / {type(input_first_value / input_second_value)}')\n",
        "print(input_first_value % input_second_value, f' / {type(input_first_value % input_second_value)}')"
      ]
    }
  ]
}