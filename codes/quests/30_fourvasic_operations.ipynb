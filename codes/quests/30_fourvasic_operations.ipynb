{
  "nbformat": 4,
  "nbformat_minor": 0,
  "metadata": {
    "colab": {
      "provenance": [],
      "include_colab_link": true
    },
    "kernelspec": {
      "name": "python3",
      "display_name": "Python 3"
    },
    "language_info": {
      "name": "python"
    }
  },
  "cells": [
    {
      "cell_type": "markdown",
      "metadata": {
        "id": "view-in-github",
        "colab_type": "text"
      },
      "source": [
        "<a href=\"https://colab.research.google.com/github/HyunWooKim252/study_pythons/blob/main/codes/quests/30_fourvasic_operations.ipynb\" target=\"_parent\"><img src=\"https://colab.research.google.com/assets/colab-badge.svg\" alt=\"Open In Colab\"/></a>"
      ]
    },
    {
      "cell_type": "markdown",
      "source": [
        "##변수명과 재사용\n",
        "###변수명과 변수값으로 구성\n"
      ],
      "metadata": {
        "id": "08-h5eemk00R"
      }
    },
    {
      "cell_type": "code",
      "execution_count": 1,
      "metadata": {
        "id": "cd_yuf4NreOI",
        "colab": {
          "base_uri": "https://localhost:8080/"
        },
        "outputId": "2f1aede6-61a0-4e9c-9315-0fa2066f0ebb"
      },
      "outputs": [
        {
          "output_type": "stream",
          "name": "stdout",
          "text": [
            "1 0 2\n"
          ]
        }
      ],
      "source": [
        "first_string=\"1\"\n",
        "second_string=temp_string=\"0\"##세컨드 스트링과 템프 스트링 같이 0으로 지정\n",
        "thrid_string=\"2\"\n",
        "print(first_string, second_string, thrid_string)\n"
      ]
    },
    {
      "cell_type": "code",
      "source": [
        "second_string=first_string\n",
        "first_string=temp_string\n",
        "\n",
        "print(first_string, second_string, thrid_string)\n"
      ],
      "metadata": {
        "id": "faUYpo5PY-Bc",
        "colab": {
          "base_uri": "https://localhost:8080/"
        },
        "outputId": "e6967788-4582-46a2-9011-d1882cfd7797"
      },
      "execution_count": 2,
      "outputs": [
        {
          "output_type": "stream",
          "name": "stdout",
          "text": [
            "0 1 2\n"
          ]
        }
      ]
    },
    {
      "cell_type": "code",
      "source": [
        "first_string=thrid_string\n",
        "thrid_string=temp_string\n",
        "print(first_string, second_string, thrid_string)\n"
      ],
      "metadata": {
        "colab": {
          "base_uri": "https://localhost:8080/"
        },
        "id": "LkEjoRWInA8Q",
        "outputId": "33bc5818-95b3-4c0d-943b-bb54511bb9e8"
      },
      "execution_count": 3,
      "outputs": [
        {
          "output_type": "stream",
          "name": "stdout",
          "text": [
            "2 1 0\n"
          ]
        }
      ]
    },
    {
      "cell_type": "code",
      "source": [
        "thrid_string=second_string\n",
        "second_string=temp_string\n",
        "\n",
        "\n",
        "\n",
        "\n",
        "print(first_string, second_string, thrid_string)\n"
      ],
      "metadata": {
        "colab": {
          "base_uri": "https://localhost:8080/"
        },
        "id": "AJclpaRvnRly",
        "outputId": "5fe2bc5a-6230-4fda-80aa-e398ca9e1f94"
      },
      "execution_count": 4,
      "outputs": [
        {
          "output_type": "stream",
          "name": "stdout",
          "text": [
            "2 0 1\n"
          ]
        }
      ]
    },
    {
      "cell_type": "markdown",
      "source": [
        "### 외부 값 입력"
      ],
      "metadata": {
        "id": "t5NSYleZGmQp"
      }
    },
    {
      "cell_type": "markdown",
      "source": [
        "## 변수값 종류 확인"
      ],
      "metadata": {
        "id": "TQprNqJ5G_4b"
      }
    },
    {
      "cell_type": "code",
      "source": [
        "first = 'first value'\n",
        "second = '5'\n",
        "third = 3\n",
        "print_string = f'first : {first}, second : {second}, third : {third}'\n",
        "print(print_string)"
      ],
      "metadata": {
        "colab": {
          "base_uri": "https://localhost:8080/"
        },
        "id": "-41fJ4vAGoUD",
        "outputId": "db673a06-ecde-4b6b-d618-3ef0a2fdb441"
      },
      "execution_count": 13,
      "outputs": [
        {
          "output_type": "stream",
          "name": "stdout",
          "text": [
            "first : first value, second : 5, third : 3\n"
          ]
        }
      ]
    },
    {
      "cell_type": "code",
      "source": [
        "#second+third\n",
        "#type(5), type('5'), type(4.5)\n",
        "print_string = f'first : {first}-{type(first)}, second : {second}-{type(second)}, third : {third}-{type(third)}'\n",
        "print(print_string)"
      ],
      "metadata": {
        "colab": {
          "base_uri": "https://localhost:8080/"
        },
        "id": "x8BYoqvDH1Pu",
        "outputId": "29446638-1288-4a0f-ad80-35036cc342ab"
      },
      "execution_count": 16,
      "outputs": [
        {
          "output_type": "stream",
          "name": "stdout",
          "text": [
            "first : first value-<class 'str'>, second : 5-<class 'str'>, third : 3-<class 'int'>\n"
          ]
        }
      ]
    },
    {
      "cell_type": "markdown",
      "source": [
        "### datatype 변경"
      ],
      "metadata": {
        "id": "Dsxi9ii5K85R"
      }
    },
    {
      "cell_type": "code",
      "source": [
        "#int(second)\n",
        "second_value = int(second)\n",
        "print(f'{second_value}/ {type(second_value)}')"
      ],
      "metadata": {
        "colab": {
          "base_uri": "https://localhost:8080/"
        },
        "id": "DWIxy4qOIt-4",
        "outputId": "1f71dd2f-81d3-4c90-ee48-1d8ca1883eac"
      },
      "execution_count": 25,
      "outputs": [
        {
          "output_type": "stream",
          "name": "stdout",
          "text": [
            "5/ <class 'int'>\n"
          ]
        }
      ]
    },
    {
      "cell_type": "code",
      "source": [
        "result = second_value + third\n",
        "print(f'{result} / {type(result)}')"
      ],
      "metadata": {
        "colab": {
          "base_uri": "https://localhost:8080/"
        },
        "id": "uQQYw2oHLf9d",
        "outputId": "1b5478a2-c99b-4c0f-8984-32789cd8680f"
      },
      "execution_count": 24,
      "outputs": [
        {
          "output_type": "stream",
          "name": "stdout",
          "text": [
            "8 / <class 'int'>\n"
          ]
        }
      ]
    },
    {
      "cell_type": "code",
      "source": [
        "result_value = str(result)\n",
        "print(f'{result_value} / {type(result_value)}')"
      ],
      "metadata": {
        "colab": {
          "base_uri": "https://localhost:8080/"
        },
        "id": "nqD2wG_PMNdR",
        "outputId": "4b305e92-1d3a-4b1d-dfbd-ca3ed3c655ff"
      },
      "execution_count": 28,
      "outputs": [
        {
          "output_type": "stream",
          "name": "stdout",
          "text": [
            "8 / <class 'str'>\n"
          ]
        }
      ]
    },
    {
      "cell_type": "code",
      "source": [
        "int(first)## str형 '' 에 숫자가 들어가있는 경우만 변할수있다"
      ],
      "metadata": {
        "colab": {
          "base_uri": "https://localhost:8080/",
          "height": 147
        },
        "id": "q2fU1nOxOGJA",
        "outputId": "a25a74ff-0241-492f-a2bb-43301c3f87bc"
      },
      "execution_count": 29,
      "outputs": [
        {
          "output_type": "error",
          "ename": "ValueError",
          "evalue": "invalid literal for int() with base 10: 'first value'",
          "traceback": [
            "\u001b[0;31m---------------------------------------------------------------------------\u001b[0m",
            "\u001b[0;31mValueError\u001b[0m                                Traceback (most recent call last)",
            "\u001b[0;32m<ipython-input-29-cae97ee0b893>\u001b[0m in \u001b[0;36m<cell line: 0>\u001b[0;34m()\u001b[0m\n\u001b[0;32m----> 1\u001b[0;31m \u001b[0mint\u001b[0m\u001b[0;34m(\u001b[0m\u001b[0mfirst\u001b[0m\u001b[0;34m)\u001b[0m\u001b[0;34m\u001b[0m\u001b[0;34m\u001b[0m\u001b[0m\n\u001b[0m",
            "\u001b[0;31mValueError\u001b[0m: invalid literal for int() with base 10: 'first value'"
          ]
        }
      ]
    },
    {
      "cell_type": "code",
      "source": [],
      "metadata": {
        "id": "rZdSUz4AO4EN"
      },
      "execution_count": null,
      "outputs": []
    },
    {
      "cell_type": "markdown",
      "source": [
        "### input()"
      ],
      "metadata": {
        "id": "VqB99AmRPKwA"
      }
    },
    {
      "cell_type": "code",
      "source": [
        "#input()\n",
        "fourth = input()\n",
        "print(f'{fourth} / {type(fourth)}')"
      ],
      "metadata": {
        "colab": {
          "base_uri": "https://localhost:8080/"
        },
        "id": "B8CNMGFTPM6r",
        "outputId": "02c4e5a3-976d-475f-eae1-37a0d472e7b7"
      },
      "execution_count": 38,
      "outputs": [
        {
          "output_type": "stream",
          "name": "stdout",
          "text": [
            "345\n",
            "345 / <class 'str'>\n"
          ]
        }
      ]
    },
    {
      "cell_type": "code",
      "source": [
        "#fourth + third\n",
        "int(fourth) + third # data typecasting"
      ],
      "metadata": {
        "colab": {
          "base_uri": "https://localhost:8080/"
        },
        "id": "jCR0H4inPcf2",
        "outputId": "5c1863fd-5c9f-4a26-e5d8-fe6710029e01"
      },
      "execution_count": 39,
      "outputs": [
        {
          "output_type": "execute_result",
          "data": {
            "text/plain": [
              "348"
            ]
          },
          "metadata": {},
          "execution_count": 39
        }
      ]
    },
    {
      "cell_type": "markdown",
      "source": [
        "###toy quest\n",
        "-외부에서 숫자 두 개를 받아 덧셈 연산 출력"
      ],
      "metadata": {
        "id": "HVxzOK7YT7kh"
      }
    },
    {
      "cell_type": "code",
      "source": [
        "input_first = input('input first')\n",
        "input_second = input('input second')\n",
        "#print(f'{input_first} / {type(input_first)}')\n",
        "#print(f'{input_second} / {type(input_second)}')\n",
        "\n",
        "input_first_value = int(input_first)\n",
        "input_second_value = int(input_second)\n",
        "result = input_first_value + input_second_value\n"
      ],
      "metadata": {
        "colab": {
          "base_uri": "https://localhost:8080/"
        },
        "id": "q94RmfqbTgGQ",
        "outputId": "4c345726-9011-45fc-d813-15b5dee32d54"
      },
      "execution_count": 49,
      "outputs": [
        {
          "name": "stdout",
          "output_type": "stream",
          "text": [
            "input first7\n",
            "input second3\n"
          ]
        }
      ]
    },
    {
      "cell_type": "code",
      "source": [],
      "metadata": {
        "id": "gB8j_JxWZaEx"
      },
      "execution_count": null,
      "outputs": []
    },
    {
      "cell_type": "markdown",
      "source": [
        "###사직연산"
      ],
      "metadata": {
        "id": "eE82s945XZCX"
      }
    },
    {
      "cell_type": "code",
      "source": [
        "7 + 3, 7 - 3, 7 * 3, 7 / 3, 7 % 3"
      ],
      "metadata": {
        "colab": {
          "base_uri": "https://localhost:8080/"
        },
        "id": "lysgSWrmUfrR",
        "outputId": "53819d10-bb23-46cb-f010-839a30c0591b"
      },
      "execution_count": 44,
      "outputs": [
        {
          "output_type": "execute_result",
          "data": {
            "text/plain": [
              "(10, 4, 21, 2.3333333333333335, 1)"
            ]
          },
          "metadata": {},
          "execution_count": 44
        }
      ]
    },
    {
      "cell_type": "code",
      "source": [
        "input_first = input('input first : ')\n",
        "input_second = input('input second : ')\n",
        "\n",
        "input_first_value = int(input_first)\n",
        "input_second_value = int(input_second)\n",
        "\n",
        "print(input_first_value + input_second_value, f' / {type(input_first_value + input_second_value)}')\n",
        "print(input_first_value - input_second_value, f' / {type(input_first_value - input_second_value)}')\n",
        "print(input_first_value * input_second_value, f' / {type(input_first_value * input_second_value)}')\n",
        "print(input_first_value / input_second_value, f' / {type(input_first_value / input_second_value)}')\n",
        "print(input_first_value % input_second_value, f' / {type(input_first_value % input_second_value)}')"
      ],
      "metadata": {
        "colab": {
          "base_uri": "https://localhost:8080/"
        },
        "id": "GxIr5GReXoOJ",
        "outputId": "45696a42-e02d-4bc0-c043-c416ff333669"
      },
      "execution_count": 58,
      "outputs": [
        {
          "output_type": "stream",
          "name": "stdout",
          "text": [
            "input first : 7\n",
            "input second : 3\n",
            "10  / <class 'int'>\n",
            "4  / <class 'int'>\n",
            "21  / <class 'int'>\n",
            "2.3333333333333335  / <class 'float'>\n",
            "1  / <class 'int'>\n"
          ]
        }
      ]
    },
    {
      "cell_type": "code",
      "source": [
        "3"
      ],
      "metadata": {
        "colab": {
          "base_uri": "https://localhost:8080/"
        },
        "id": "7fmN_XUdYs7_",
        "outputId": "bc2d0a46-a628-4ec9-a31d-e4d9a85ae56c"
      },
      "execution_count": 55,
      "outputs": [
        {
          "output_type": "execute_result",
          "data": {
            "text/plain": [
              "3"
            ]
          },
          "metadata": {},
          "execution_count": 55
        }
      ]
    },
    {
      "cell_type": "code",
      "source": [],
      "metadata": {
        "id": "6zEO6bY0agRl"
      },
      "execution_count": null,
      "outputs": []
    }
  ]
}