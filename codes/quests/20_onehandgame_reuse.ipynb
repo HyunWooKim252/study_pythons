{
  "nbformat": 4,
  "nbformat_minor": 0,
  "metadata": {
    "colab": {
      "provenance": [],
      "include_colab_link": true
    },
    "kernelspec": {
      "name": "python3",
      "display_name": "Python 3"
    },
    "language_info": {
      "name": "python"
    }
  },
  "cells": [
    {
      "cell_type": "markdown",
      "metadata": {
        "id": "view-in-github",
        "colab_type": "text"
      },
      "source": [
        "<a href=\"https://colab.research.google.com/github/HyunWooKim252/study_pythons/blob/main/codes/quests/20_onehandgame_reuse.ipynb\" target=\"_parent\"><img src=\"https://colab.research.google.com/assets/colab-badge.svg\" alt=\"Open In Colab\"/></a>"
      ]
    },
    {
      "cell_type": "markdown",
      "source": [
        "##변수명과 재사용\n",
        "###변수명과 변수값으로 구성\n"
      ],
      "metadata": {
        "id": "08-h5eemk00R"
      }
    },
    {
      "cell_type": "code",
      "execution_count": null,
      "metadata": {
        "id": "cd_yuf4NreOI",
        "colab": {
          "base_uri": "https://localhost:8080/"
        },
        "outputId": "48f35ce5-5fe7-48cf-8431-6c6bbbaa990e",
        "collapsed": true
      },
      "outputs": [
        {
          "output_type": "stream",
          "name": "stdout",
          "text": [
            "1 0 2\n"
          ]
        }
      ],
      "source": [
        "first_string=\"1\"\n",
        "second_string=temp_string=\"0\"##세컨드 스트링과 템프 스트링 같이 0으로 지정\n",
        "thrid_string=\"2\"\n",
        "print(first_string, second_string, thrid_string)\n"
      ]
    },
    {
      "cell_type": "code",
      "source": [
        "second_string=first_string\n",
        "first_string=temp_string\n",
        "\n",
        "print(first_string, second_string, thrid_string)\n"
      ],
      "metadata": {
        "id": "faUYpo5PY-Bc",
        "colab": {
          "base_uri": "https://localhost:8080/"
        },
        "collapsed": true,
        "outputId": "c049db03-f55d-4874-98d1-2ba1f60c5f04"
      },
      "execution_count": null,
      "outputs": [
        {
          "output_type": "stream",
          "name": "stdout",
          "text": [
            "0 1 2\n"
          ]
        }
      ]
    },
    {
      "cell_type": "code",
      "source": [
        "first_string=thrid_string\n",
        "thrid_string=temp_string\n",
        "print(first_string, second_string, thrid_string)\n"
      ],
      "metadata": {
        "colab": {
          "base_uri": "https://localhost:8080/"
        },
        "id": "LkEjoRWInA8Q",
        "outputId": "0db8fd9b-a489-42a1-8dc3-207d3783a25a"
      },
      "execution_count": null,
      "outputs": [
        {
          "output_type": "stream",
          "name": "stdout",
          "text": [
            "2 1 0\n"
          ]
        }
      ]
    },
    {
      "cell_type": "code",
      "source": [
        "thrid_string=second_string\n",
        "second_string=temp_string\n",
        "\n",
        "print(first_string, second_string, thrid_string)\n"
      ],
      "metadata": {
        "colab": {
          "base_uri": "https://localhost:8080/"
        },
        "id": "AJclpaRvnRly",
        "outputId": "1b06ab5a-7bbd-4c31-95e4-ad9769621d22"
      },
      "execution_count": null,
      "outputs": [
        {
          "output_type": "stream",
          "name": "stdout",
          "text": [
            "2 0 1\n"
          ]
        }
      ]
    }
  ]
}