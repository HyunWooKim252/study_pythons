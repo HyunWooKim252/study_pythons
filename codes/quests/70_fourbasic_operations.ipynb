{
  "nbformat": 4,
  "nbformat_minor": 0,
  "metadata": {
    "colab": {
      "provenance": [],
      "authorship_tag": "ABX9TyO6JTB2SlVzwG42LCxP+pK1",
      "include_colab_link": true
    },
    "kernelspec": {
      "name": "python3",
      "display_name": "Python 3"
    },
    "language_info": {
      "name": "python"
    }
  },
  "cells": [
    {
      "cell_type": "markdown",
      "metadata": {
        "id": "view-in-github",
        "colab_type": "text"
      },
      "source": [
        "<a href=\"https://colab.research.google.com/github/HyunWooKim252/study_pythons/blob/main/codes/quests/70_fourbasic_operations.ipynb\" target=\"_parent\"><img src=\"https://colab.research.google.com/assets/colab-badge.svg\" alt=\"Open In Colab\"/></a>"
      ]
    },
    {
      "cell_type": "code",
      "execution_count": null,
      "metadata": {
        "id": "H46smoWVtvjx",
        "colab": {
          "base_uri": "https://localhost:8080/"
        },
        "outputId": "992f4b82-6182-40e4-e8ea-4a3aa55e44ee"
      },
      "outputs": [
        {
          "output_type": "stream",
          "name": "stdout",
          "text": [
            "계산기\n",
            "a :9\n",
            "b :6\n",
            "a+b = 15\n",
            "a-b = 3\n",
            "a*b = 54\n",
            "a/b = 1.5\n",
            "a :5\n",
            "b :q\n",
            "계산기 종료\n"
          ]
        }
      ],
      "source": [
        "print('계산기')\n",
        "while True :\n",
        "  number = input('a :')\n",
        "  number2 = input('b :')\n",
        "  if (number =='q') or (number2=='q') :\n",
        "    break\n",
        "  number=int(number)\n",
        "  number2=int(number2)\n",
        "  result=number+number2\n",
        "  print(f'a+b = {result}')\n",
        "  result=number-number2\n",
        "  print(f'a-b = {result}')\n",
        "  result=number*number2\n",
        "  print(f'a*b = {result}')\n",
        "  result=number/number2\n",
        "  print(f'a/b = {result}')\n",
        "print('계산기 종료')"
      ]
    },
    {
      "cell_type": "code",
      "source": [
        "\n"
      ],
      "metadata": {
        "id": "JRhwSCaeQR-_"
      },
      "execution_count": null,
      "outputs": []
    }
  ]
}