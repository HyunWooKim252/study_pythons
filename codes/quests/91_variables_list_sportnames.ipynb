{
  "nbformat": 4,
  "nbformat_minor": 0,
  "metadata": {
    "colab": {
      "provenance": [],
      "authorship_tag": "ABX9TyN+ojnt53+EBqnigt6hjEJT",
      "include_colab_link": true
    },
    "kernelspec": {
      "name": "python3",
      "display_name": "Python 3"
    },
    "language_info": {
      "name": "python"
    }
  },
  "cells": [
    {
      "cell_type": "markdown",
      "metadata": {
        "id": "view-in-github",
        "colab_type": "text"
      },
      "source": [
        "<a href=\"https://colab.research.google.com/github/HyunWooKim252/study_pythons/blob/main/codes/quests/91_variables_list_sportnames.ipynb\" target=\"_parent\"><img src=\"https://colab.research.google.com/assets/colab-badge.svg\" alt=\"Open In Colab\"/></a>"
      ]
    },
    {
      "cell_type": "code",
      "execution_count": null,
      "metadata": {
        "id": "2ywqm8SxlvGc"
      },
      "outputs": [],
      "source": [
        "#리스트에 append 이용해 스포츠명 넣기\n",
        "#스포츠명은 input(), 입력값이 'exit' 종료\n",
        "#while\n",
        "#soccer, baseball,basketball, golf"
      ]
    },
    {
      "cell_type": "code",
      "source": [
        "print('program start')\n",
        "sports=[]\n",
        "condition = True\n",
        "sports\n",
        "\n",
        "while condition :\n",
        "  print(f'{sports}')\n",
        "  sport = input(\"스포츠 이름 : \")\n",
        "  if sport == \"exit\" :\n",
        "   condition = False\n",
        "  sports.append(sport)\n"
      ],
      "metadata": {
        "colab": {
          "base_uri": "https://localhost:8080/"
        },
        "id": "25HT_ZflmRPW",
        "outputId": "7f11c507-935e-4deb-f7ff-f1efc824d16a"
      },
      "execution_count": 18,
      "outputs": [
        {
          "name": "stdout",
          "output_type": "stream",
          "text": [
            "program start\n",
            "[]\n",
            "스포츠 이름 : soccer\n",
            "['soccer']\n",
            "스포츠 이름 : baseball\n",
            "['soccer', 'baseball']\n",
            "스포츠 이름 : basketball\n",
            "['soccer', 'baseball', 'basketball']\n",
            "스포츠 이름 : golf\n",
            "['soccer', 'baseball', 'basketball', 'golf']\n",
            "스포츠 이름 : exit\n"
          ]
        }
      ]
    }
  ]
}