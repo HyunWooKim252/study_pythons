{
  "nbformat": 4,
  "nbformat_minor": 0,
  "metadata": {
    "colab": {
      "provenance": [],
      "authorship_tag": "ABX9TyO7fmvpi/4bMZq/Cy/502Fy",
      "include_colab_link": true
    },
    "kernelspec": {
      "name": "python3",
      "display_name": "Python 3"
    },
    "language_info": {
      "name": "python"
    }
  },
  "cells": [
    {
      "cell_type": "markdown",
      "metadata": {
        "id": "view-in-github",
        "colab_type": "text"
      },
      "source": [
        "<a href=\"https://colab.research.google.com/github/HyunWooKim252/study_pythons/blob/main/codes/quests/90_fourbasic_operations_functions_returns.ipynb\" target=\"_parent\"><img src=\"https://colab.research.google.com/assets/colab-badge.svg\" alt=\"Open In Colab\"/></a>"
      ]
    },
    {
      "cell_type": "markdown",
      "source": [
        "함수"
      ],
      "metadata": {
        "id": "yqO7_d5c8XDZ"
      }
    },
    {
      "cell_type": "code",
      "source": [
        "def add(p_first,p_second):\n",
        "\n",
        "  result_add = p_first + p_second\n",
        "  return result_add"
      ],
      "metadata": {
        "id": "J0jv-aqs8WUI"
      },
      "execution_count": 6,
      "outputs": []
    },
    {
      "cell_type": "code",
      "source": [
        "def minus(p_first,p_second):\n",
        "  result_minus = p_first - p_second\n",
        "  return result_minus"
      ],
      "metadata": {
        "id": "HzDbSSyT9F_G"
      },
      "execution_count": 7,
      "outputs": []
    },
    {
      "cell_type": "code",
      "source": [
        "def multiply(p_first,p_second):\n",
        "  result_multiply = p_first * p_second\n",
        "  return result_multiply"
      ],
      "metadata": {
        "id": "ltI4NYQU9xOH"
      },
      "execution_count": 8,
      "outputs": []
    },
    {
      "cell_type": "code",
      "source": [
        "def division(p_first,p_second):\n",
        "  result_division = p_first / p_second\n",
        "  return result_division"
      ],
      "metadata": {
        "id": "KzddAoXV-VNH"
      },
      "execution_count": 9,
      "outputs": []
    },
    {
      "cell_type": "code",
      "source": [
        "param_first=8\n",
        "param_second=2\n",
        "\n",
        "result_add = add(param_first, param_second)\n",
        "result_minus = minus(param_first, param_second)\n",
        "result_multiply = multiply(param_first, param_second)\n",
        "result_division = division(param_first, param_second)"
      ],
      "metadata": {
        "id": "YUiewaca9lmM"
      },
      "execution_count": 46,
      "outputs": []
    },
    {
      "cell_type": "code",
      "source": [
        "def result_print(): # 사칙연산 함수들 결과 값 나열\n",
        "\n",
        "  functions_result =print(f'add 함수 값 :{result_add}, minus 함수 값 :{result_minus}, multiply 함수 값 :{result_multiply}, division 함수 값 :{result_division}')\n",
        "  return functions_result"
      ],
      "metadata": {
        "id": "AFcnLfix_20Y"
      },
      "execution_count": 48,
      "outputs": []
    },
    {
      "cell_type": "code",
      "source": [
        "result_print()"
      ],
      "metadata": {
        "colab": {
          "base_uri": "https://localhost:8080/"
        },
        "id": "zihNgylD-Mp7",
        "outputId": "88d71ac2-8b20-424b-9b38-055d584a254e"
      },
      "execution_count": 49,
      "outputs": [
        {
          "output_type": "stream",
          "name": "stdout",
          "text": [
            "add 함수 값 :10, minus 함수 값 :6, multiply 함수 값 :16, division 함수 값 :4.0\n"
          ]
        }
      ]
    },
    {
      "cell_type": "code",
      "source": [],
      "metadata": {
        "id": "Q-U7fIsqBMb3"
      },
      "execution_count": null,
      "outputs": []
    }
  ]
}