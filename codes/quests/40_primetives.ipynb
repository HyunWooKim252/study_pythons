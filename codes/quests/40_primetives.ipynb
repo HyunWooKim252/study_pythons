{
  "nbformat": 4,
  "nbformat_minor": 0,
  "metadata": {
    "colab": {
      "provenance": [],
      "authorship_tag": "ABX9TyM8Rb5UEWeihMIx4wB27vM9",
      "include_colab_link": true
    },
    "kernelspec": {
      "name": "python3",
      "display_name": "Python 3"
    },
    "language_info": {
      "name": "python"
    }
  },
  "cells": [
    {
      "cell_type": "markdown",
      "metadata": {
        "id": "view-in-github",
        "colab_type": "text"
      },
      "source": [
        "<a href=\"https://colab.research.google.com/github/HyunWooKim252/study_pythons/blob/main/codes/quests/40_primetives.ipynb\" target=\"_parent\"><img src=\"https://colab.research.google.com/assets/colab-badge.svg\" alt=\"Open In Colab\"/></a>"
      ]
    },
    {
      "cell_type": "markdown",
      "source": [
        "### 점수별 등급 산정"
      ],
      "metadata": {
        "id": "-_DZIcG_mZk3"
      }
    },
    {
      "cell_type": "code",
      "execution_count": null,
      "metadata": {
        "colab": {
          "base_uri": "https://localhost:8080/"
        },
        "id": "lmJjTUwmxNzk",
        "outputId": "392176b1-0caa-4802-a06d-2fc9ffbaae19"
      },
      "outputs": [
        {
          "output_type": "stream",
          "name": "stdout",
          "text": [
            "score input : 4.5\n",
            "당신에 등급은 A입니다\n"
          ]
        }
      ],
      "source": [
        "score = input('score input : ')\n",
        "float_score=float(score)\n",
        "\n",
        "if float_score > 4.5 :\n",
        "  print('알맞는 값을 입력하세요')\n",
        "elif float_score > 4.0 :\n",
        "  print('당신에 등급은 A입니다')\n",
        "elif float_score > 3.5 :\n",
        "  print('당신에 등급은 B입니다')\n",
        "elif float_score > 3.0 :\n",
        "  print('당신에 등급은 C입니다')\n",
        "elif float_score > 2.5 :\n",
        "  print('당신에 등급은 D입니다')\n",
        "else  :\n",
        "  print('당신에 등급은 F입니다')"
      ]
    },
    {
      "cell_type": "code",
      "source": [],
      "metadata": {
        "id": "3_oOEQJ_z4QC"
      },
      "execution_count": null,
      "outputs": []
    }
  ]
}