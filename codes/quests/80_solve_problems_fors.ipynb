{
  "nbformat": 4,
  "nbformat_minor": 0,
  "metadata": {
    "colab": {
      "provenance": [],
      "authorship_tag": "ABX9TyOXWxe58gH0s2qZ7hOwNtvW",
      "include_colab_link": true
    },
    "kernelspec": {
      "name": "python3",
      "display_name": "Python 3"
    },
    "language_info": {
      "name": "python"
    }
  },
  "cells": [
    {
      "cell_type": "markdown",
      "metadata": {
        "id": "view-in-github",
        "colab_type": "text"
      },
      "source": [
        "<a href=\"https://colab.research.google.com/github/HyunWooKim252/study_pythons/blob/main/codes/quests/80_solve_problems_fors.ipynb\" target=\"_parent\"><img src=\"https://colab.research.google.com/assets/colab-badge.svg\" alt=\"Open In Colab\"/></a>"
      ]
    },
    {
      "cell_type": "code",
      "execution_count": 42,
      "metadata": {
        "colab": {
          "base_uri": "https://localhost:8080/"
        },
        "id": "KKTl1xVQwlUO",
        "outputId": "047f3de2-021b-48ab-cb9e-6ec5df1f708e"
      },
      "outputs": [
        {
          "output_type": "stream",
          "name": "stdout",
          "text": [
            "다음 중 Python의 약속어(키워드)가 아닌 것은 무엇인가요?\n",
            "1,def\n",
            "2,class\n",
            "3,lambda\n",
            "4,define\n",
            "4\n",
            "정답입니다\n"
          ]
        }
      ],
      "source": [
        "question = \"다음 중 Python의 약속어(키워드)가 아닌 것은 무엇인가요?\"\n",
        "choices = [\"def\", \"class\", \"lambda\", \"define\"]\n",
        "real_answer = 4\n",
        "print(question)\n",
        "number = 0\n",
        "\n",
        "for index_value in choices :\n",
        "    number=1+number\n",
        "    print(f'{number},{index_value}')\n",
        "\n",
        "while True :\n",
        "  first_answer=input()\n",
        "\n",
        "  int_answer=int(first_answer)\n",
        "  if (int_answer == 0) or (int_answer>4) :\n",
        "    print('범위 내 값을 입력하세요')\n",
        "\n",
        "  elif(int_answer<4):\n",
        "    print('오답입니다')\n",
        "\n",
        "  elif(int_answer==real_answer) :\n",
        "    print('정답입니다')\n",
        "    break\n",
        "\n"
      ]
    },
    {
      "cell_type": "code",
      "source": [],
      "metadata": {
        "id": "LGzLrWl04b1X"
      },
      "execution_count": null,
      "outputs": []
    }
  ]
}