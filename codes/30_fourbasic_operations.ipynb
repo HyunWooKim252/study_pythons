{
  "nbformat": 4,
  "nbformat_minor": 0,
  "metadata": {
    "colab": {
      "provenance": [],
      "authorship_tag": "ABX9TyOVgnljqadpdrG+myIj7DOp",
      "include_colab_link": true
    },
    "kernelspec": {
      "name": "python3",
      "display_name": "Python 3"
    },
    "language_info": {
      "name": "python"
    }
  },
  "cells": [
    {
      "cell_type": "markdown",
      "metadata": {
        "id": "view-in-github",
        "colab_type": "text"
      },
      "source": [
        "<a href=\"https://colab.research.google.com/github/HyunWooKim252/study_pythons/blob/main/codes/30_fourbasic_operations.ipynb\" target=\"_parent\"><img src=\"https://colab.research.google.com/assets/colab-badge.svg\" alt=\"Open In Colab\"/></a>"
      ]
    },
    {
      "cell_type": "code",
      "execution_count": 1,
      "metadata": {
        "colab": {
          "base_uri": "https://localhost:8080/"
        },
        "id": "MN47aJfed0XM",
        "outputId": "b40d0291-baf8-43e8-d8bb-fb2ec8b8967c"
      },
      "outputs": [
        {
          "output_type": "stream",
          "name": "stdout",
          "text": [
            "input first : 7\n",
            "input second : 3\n",
            "10  / <class 'int'>\n",
            "4  / <class 'int'>\n",
            "21  / <class 'int'>\n",
            "2.3333333333333335  / <class 'float'>\n",
            "1  / <class 'int'>\n"
          ]
        }
      ],
      "source": [
        "input_first = input('input first : ')\n",
        "input_second = input('input second : ')\n",
        "\n",
        "input_first_value = int(input_first)\n",
        "input_second_value = int(input_second)\n",
        "\n",
        "print(input_first_value + input_second_value, f' / {type(input_first_value + input_second_value)}')\n",
        "print(input_first_value - input_second_value, f' / {type(input_first_value - input_second_value)}')\n",
        "print(input_first_value * input_second_value, f' / {type(input_first_value * input_second_value)}')\n",
        "print(input_first_value / input_second_value, f' / {type(input_first_value / input_second_value)}')\n",
        "print(input_first_value % input_second_value, f' / {type(input_first_value % input_second_value)}')"
      ]
    },
    {
      "cell_type": "markdown",
      "source": [
        "### booleans"
      ],
      "metadata": {
        "id": "N46VfE5rhguF"
      }
    },
    {
      "cell_type": "markdown",
      "source": [
        "## ture or false"
      ],
      "metadata": {
        "id": "HqknPg_UhkGd"
      }
    },
    {
      "cell_type": "code",
      "source": [
        "#first = True\n",
        "#second = False\n",
        "#first = true  #error\n",
        "#second = false #error\n",
        "second = bool(0)\n",
        "first = bool(1)\n",
        "\n",
        "\n",
        "print(f'first:{first} / {type(first)}, second:{second} / {type(second)} ')"
      ],
      "metadata": {
        "colab": {
          "base_uri": "https://localhost:8080/"
        },
        "id": "YqsQ9u6IhjDH",
        "outputId": "5721f2a4-eb22-4783-969f-2526fd7d565b"
      },
      "execution_count": 7,
      "outputs": [
        {
          "output_type": "stream",
          "name": "stdout",
          "text": [
            "first:True / <class 'bool'>, second:False / <class 'bool'> \n"
          ]
        }
      ]
    },
    {
      "cell_type": "markdown",
      "source": [
        "### 부등호와 boolean"
      ],
      "metadata": {
        "id": "TdJX9U8Ij4lH"
      }
    },
    {
      "cell_type": "code",
      "source": [
        "5<7 # 5는 7보다 작다, 7은 5 보다 크다"
      ],
      "metadata": {
        "colab": {
          "base_uri": "https://localhost:8080/"
        },
        "id": "svFpxHkAhncs",
        "outputId": "96cedf67-885a-470d-98e9-55be0eef84b3"
      },
      "execution_count": 8,
      "outputs": [
        {
          "output_type": "execute_result",
          "data": {
            "text/plain": [
              "True"
            ]
          },
          "metadata": {},
          "execution_count": 8
        }
      ]
    },
    {
      "cell_type": "code",
      "source": [
        "5<7, 5>7, 5 == 7, 5<=7, 5>=7,"
      ],
      "metadata": {
        "colab": {
          "base_uri": "https://localhost:8080/"
        },
        "id": "zduBJhsCkDdy",
        "outputId": "5cfd1887-30dd-49a6-f4e3-2697367b262c"
      },
      "execution_count": 14,
      "outputs": [
        {
          "output_type": "execute_result",
          "data": {
            "text/plain": [
              "(True, False, False, True, False)"
            ]
          },
          "metadata": {},
          "execution_count": 14
        }
      ]
    },
    {
      "cell_type": "code",
      "source": [
        "first = 5\n",
        "second = 7\n",
        "first < second, first > second, first == second, first <= second, first >= second"
      ],
      "metadata": {
        "colab": {
          "base_uri": "https://localhost:8080/"
        },
        "id": "XlMXIZ5dktza",
        "outputId": "e43d3628-0a80-4231-8c88-68d6e6f54d95"
      },
      "execution_count": 13,
      "outputs": [
        {
          "output_type": "execute_result",
          "data": {
            "text/plain": [
              "(True, False, False, True, False)"
            ]
          },
          "metadata": {},
          "execution_count": 13
        }
      ]
    },
    {
      "cell_type": "code",
      "source": [],
      "metadata": {
        "id": "JZTTg_oGk_UM"
      },
      "execution_count": null,
      "outputs": []
    }
  ]
}