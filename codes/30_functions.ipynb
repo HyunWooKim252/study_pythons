{
  "nbformat": 4,
  "nbformat_minor": 0,
  "metadata": {
    "colab": {
      "provenance": [],
      "authorship_tag": "ABX9TyPXQM9s3GnrfphsaklmzwHQ",
      "include_colab_link": true
    },
    "kernelspec": {
      "name": "python3",
      "display_name": "Python 3"
    },
    "language_info": {
      "name": "python"
    }
  },
  "cells": [
    {
      "cell_type": "markdown",
      "metadata": {
        "id": "view-in-github",
        "colab_type": "text"
      },
      "source": [
        "<a href=\"https://colab.research.google.com/github/HyunWooKim252/study_pythons/blob/main/codes/30_functions.ipynb\" target=\"_parent\"><img src=\"https://colab.research.google.com/assets/colab-badge.svg\" alt=\"Open In Colab\"/></a>"
      ]
    },
    {
      "cell_type": "markdown",
      "source": [
        "## function\n",
        "-1원칙 : 기본 구성\n",
        "```\n",
        "def function_name() :\n",
        "  execute codes (변수 + 약속어)\n",
        "```\n",
        "-2원칙 : params와 return\n",
        "```\n",
        "def function_name(param_first, ....) :\n",
        "  execute codes (변수 + 약속어)\n",
        "  return result\n",
        "```"
      ],
      "metadata": {
        "id": "LXdZ7R6Y1czt"
      }
    },
    {
      "cell_type": "markdown",
      "source": [
        "## 기존코드를 함수화"
      ],
      "metadata": {
        "id": "YIgJNpB92G46"
      }
    },
    {
      "cell_type": "code",
      "execution_count": null,
      "metadata": {
        "colab": {
          "base_uri": "https://localhost:8080/"
        },
        "id": "B2k65wP51TOg",
        "outputId": "9be097cc-3f25-4bc0-e69a-a8e85cd43053"
      },
      "outputs": [
        {
          "output_type": "stream",
          "name": "stdout",
          "text": [
            "9 / <class 'int'>= 4 + 5\n"
          ]
        }
      ],
      "source": [
        "input_first_value =4\n",
        "input_second_value=5\n",
        "result_plus= input_first_value + input_second_value\n",
        "print(f'{result_plus} / {type(result_plus)}= {input_first_value} + {input_second_value}')"
      ]
    },
    {
      "cell_type": "markdown",
      "source": [
        "1원칙 적용"
      ],
      "metadata": {
        "id": "tzd9tU3-Bab4"
      }
    },
    {
      "cell_type": "code",
      "source": [
        "def add():\n",
        "  input_first_value =4\n",
        "  input_second_value=5\n",
        "  result_plus= input_first_value + input_second_value\n",
        "  print(f'{result_plus} / {type(result_plus)}= {input_first_value} + {input_second_value}')"
      ],
      "metadata": {
        "id": "9uX34Gvm20p_"
      },
      "execution_count": null,
      "outputs": []
    },
    {
      "cell_type": "code",
      "source": [
        "add()\n"
      ],
      "metadata": {
        "colab": {
          "base_uri": "https://localhost:8080/"
        },
        "id": "uFZru-4Z4ePb",
        "outputId": "790d20b3-1408-4875-fd6e-60a0653a9f8b"
      },
      "execution_count": null,
      "outputs": [
        {
          "output_type": "stream",
          "name": "stdout",
          "text": [
            "9 / <class 'int'>= 4 + 5\n"
          ]
        }
      ]
    },
    {
      "cell_type": "markdown",
      "source": [
        "### 2원칙 적용"
      ],
      "metadata": {
        "id": "X-JY6WwNB9Ta"
      }
    },
    {
      "cell_type": "markdown",
      "source": [
        "#### parameters"
      ],
      "metadata": {
        "id": "JBUDlHVL0TVF"
      }
    },
    {
      "cell_type": "code",
      "source": [
        "def add(input_first_value, input_second_value):  #call by values\n",
        "  result_plus= input_first_value + input_second_value\n",
        "  print(f'{result_plus} / {type(result_plus)}= {input_first_value} + {input_second_value}')"
      ],
      "metadata": {
        "id": "uxstv3k-4kyz"
      },
      "execution_count": null,
      "outputs": []
    },
    {
      "cell_type": "code",
      "source": [
        "#add()호출\n",
        "add(4, 5)"
      ],
      "metadata": {
        "colab": {
          "base_uri": "https://localhost:8080/"
        },
        "id": "lWL3BILsClso",
        "outputId": "1afb9d6d-3cab-4628-c5bc-9441b37b1584"
      },
      "execution_count": null,
      "outputs": [
        {
          "output_type": "stream",
          "name": "stdout",
          "text": [
            "9 / <class 'int'>= 4 + 5\n"
          ]
        }
      ]
    },
    {
      "cell_type": "code",
      "source": [
        "add(8,9)"
      ],
      "metadata": {
        "colab": {
          "base_uri": "https://localhost:8080/"
        },
        "id": "AT0UeI0aCx9j",
        "outputId": "4a830b2a-4fec-48b3-d165-bd9ba981d4b8"
      },
      "execution_count": null,
      "outputs": [
        {
          "output_type": "stream",
          "name": "stdout",
          "text": [
            "17 / <class 'int'>= 8 + 9\n"
          ]
        }
      ]
    },
    {
      "cell_type": "code",
      "source": [
        "first_input = input('first : ')\n",
        "second_input = input('second : ')"
      ],
      "metadata": {
        "colab": {
          "base_uri": "https://localhost:8080/"
        },
        "id": "oQNLt8csDFzb",
        "outputId": "06681e30-a2e0-4d3d-f738-06f9a3ba0a10"
      },
      "execution_count": null,
      "outputs": [
        {
          "name": "stdout",
          "output_type": "stream",
          "text": [
            "first : 30\n",
            "second : 4\n"
          ]
        }
      ]
    },
    {
      "cell_type": "code",
      "source": [
        "print(f'first_input : {first_input},  second_input : {second_input}')"
      ],
      "metadata": {
        "colab": {
          "base_uri": "https://localhost:8080/"
        },
        "id": "aC56f8C2DhVP",
        "outputId": "0a2f8cc6-9fea-4e4d-9344-d36d26af6af8"
      },
      "execution_count": null,
      "outputs": [
        {
          "output_type": "stream",
          "name": "stdout",
          "text": [
            "first_input : 30,  second_input : 4\n"
          ]
        }
      ]
    },
    {
      "cell_type": "code",
      "source": [
        "first_input = int(first_input)\n",
        "second_input = int(second_input)"
      ],
      "metadata": {
        "id": "eL2B6_lREH5z"
      },
      "execution_count": null,
      "outputs": []
    },
    {
      "cell_type": "code",
      "source": [
        "add(first_input, second_input) # 재사용성"
      ],
      "metadata": {
        "colab": {
          "base_uri": "https://localhost:8080/"
        },
        "id": "4suVk-CzDuoS",
        "outputId": "f5a7de9f-2e76-4864-8050-37465a28ae64"
      },
      "execution_count": null,
      "outputs": [
        {
          "output_type": "stream",
          "name": "stdout",
          "text": [
            "34 / <class 'int'>= 30 + 4\n"
          ]
        }
      ]
    },
    {
      "cell_type": "code",
      "source": [],
      "metadata": {
        "id": "9b2I8ydLER6_"
      },
      "execution_count": null,
      "outputs": []
    },
    {
      "cell_type": "markdown",
      "source": [
        "#### return\n",
        "- 함수 분할 기준 : 마이크로(세부) 업무 단위, 하나 작업만 수행"
      ],
      "metadata": {
        "id": "x2Bx43el0Xfu"
      }
    },
    {
      "cell_type": "code",
      "source": [
        "def add(input_first_value, input_second_value):  #call by values\n",
        "  result_plus= input_first_value + input_second_value\n",
        " # print(f'{result_plus} / {type(result_plus)}= {input_first_value} + {input_second_value}')\n",
        "  return result_plus"
      ],
      "metadata": {
        "id": "dKssrT3X0arj"
      },
      "execution_count": 9,
      "outputs": []
    },
    {
      "cell_type": "code",
      "source": [
        "add(4,6)"
      ],
      "metadata": {
        "colab": {
          "base_uri": "https://localhost:8080/"
        },
        "id": "Zkdx27Z32QqV",
        "outputId": "91cb66bb-855c-4410-87a5-2f6ceff95126"
      },
      "execution_count": 10,
      "outputs": [
        {
          "output_type": "execute_result",
          "data": {
            "text/plain": [
              "10"
            ]
          },
          "metadata": {},
          "execution_count": 10
        }
      ]
    },
    {
      "cell_type": "code",
      "source": [
        "# '=' 좌측변수에 갑을 같은 값을 대입한다\n",
        "result = 10\n",
        "result_first = result\n",
        "first = 4\n",
        "second = 6\n",
        "result_return = add(4, 6)"
      ],
      "metadata": {
        "id": "_xhFw7oR2W8P"
      },
      "execution_count": 17,
      "outputs": []
    },
    {
      "cell_type": "code",
      "source": [
        "print(f'{result_return} / {type(result_return)}= {first} + {second}')"
      ],
      "metadata": {
        "colab": {
          "base_uri": "https://localhost:8080/"
        },
        "collapsed": true,
        "id": "oZqOZ0JU4bOt",
        "outputId": "4574f6c5-f63e-416f-c2bd-f6822ac4c902"
      },
      "execution_count": 18,
      "outputs": [
        {
          "output_type": "stream",
          "name": "stdout",
          "text": [
            "10 / <class 'int'>= 4 + 6\n"
          ]
        }
      ]
    },
    {
      "cell_type": "code",
      "source": [
        "?print"
      ],
      "metadata": {
        "id": "xiIPHRVV8e-b"
      },
      "execution_count": 1,
      "outputs": []
    },
    {
      "cell_type": "code",
      "source": [],
      "metadata": {
        "id": "00mTRkFMKb2k"
      },
      "execution_count": null,
      "outputs": []
    }
  ]
}